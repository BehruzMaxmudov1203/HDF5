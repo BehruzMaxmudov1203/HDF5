{
 "cells": [
  {
   "cell_type": "markdown",
   "metadata": {
    "id": "QLOWV-cSv7iV"
   },
   "source": [
    "\n",
    "Fayldan oʻqish va unga yozish. HDF5\n",
    "**Bu vazifalarni bajargach, CSV, Excel va HDF5 formatlarida fayllarni oʻqish hamda saqlash, yaʼni data processing (ma’lumotlarga ishlov berish)\n",
    "\n",
    "\n",
    "\n",
    "\n",
    "\n",
    "\n",
    "\n",
    "\n",
    "\n",
    "\n",
    "\n"
   ]
  },
  {
   "cell_type": "markdown",
   "metadata": {
    "id": "BeCmkaEhwpZc"
   },
   "source": [
    "\n",
    "#1-topshiriq\n",
    "\n",
    "\n",
    "1.    Quyidagi link orqali maʼlumotlarni Pandas dataframeʼiga yuklab oling.\n",
    "    \n",
    "  *   https://raw.githubusercontent.com/alishermutalov/praktikum-datasets/refs/heads/praktikum/data_date.csv\n",
    "\n",
    "\n",
    "\n",
    "2.   Yuklab olingan maʼlumotlarni `aqi.csv` fayliga saqlang.\n",
    "\n",
    "3. Saqlab olingan `aqi.csv` faylining oxirgi 5 ta qatorini oʻqing.\n",
    "\n",
    "Eslatma: fayl nomini `aqi.csv` deb saqlaganimizning sababi AQI – Air Quality Index, yaʼni havo sifati indeksi deganidir. Bizning maʼlumotlarimizda davlatlarning havo sifati haqidagi maʼlumotlar saqlangan!"
   ]
  },
  {
   "cell_type": "code",
   "execution_count": 7,
   "metadata": {
    "id": "HCPvZ9JVv6xh"
   },
   "outputs": [
    {
     "data": {
      "text/html": [
       "<div>\n",
       "<style scoped>\n",
       "    .dataframe tbody tr th:only-of-type {\n",
       "        vertical-align: middle;\n",
       "    }\n",
       "\n",
       "    .dataframe tbody tr th {\n",
       "        vertical-align: top;\n",
       "    }\n",
       "\n",
       "    .dataframe thead th {\n",
       "        text-align: right;\n",
       "    }\n",
       "</style>\n",
       "<table border=\"1\" class=\"dataframe\">\n",
       "  <thead>\n",
       "    <tr style=\"text-align: right;\">\n",
       "      <th></th>\n",
       "      <th>Date</th>\n",
       "      <th>Country</th>\n",
       "      <th>Status</th>\n",
       "      <th>AQI Value</th>\n",
       "    </tr>\n",
       "  </thead>\n",
       "  <tbody>\n",
       "    <tr>\n",
       "      <th>18116</th>\n",
       "      <td>2025-03-06</td>\n",
       "      <td>United States of America</td>\n",
       "      <td>Moderate</td>\n",
       "      <td>82</td>\n",
       "    </tr>\n",
       "    <tr>\n",
       "      <th>18117</th>\n",
       "      <td>2025-03-06</td>\n",
       "      <td>Uzbekistan</td>\n",
       "      <td>Good</td>\n",
       "      <td>17</td>\n",
       "    </tr>\n",
       "    <tr>\n",
       "      <th>18118</th>\n",
       "      <td>2025-03-06</td>\n",
       "      <td>Vatican</td>\n",
       "      <td>Moderate</td>\n",
       "      <td>65</td>\n",
       "    </tr>\n",
       "    <tr>\n",
       "      <th>18119</th>\n",
       "      <td>2025-03-06</td>\n",
       "      <td>Venezuela</td>\n",
       "      <td>Good</td>\n",
       "      <td>11</td>\n",
       "    </tr>\n",
       "    <tr>\n",
       "      <th>18120</th>\n",
       "      <td>2025-03-06</td>\n",
       "      <td>Vietnam</td>\n",
       "      <td>Moderate</td>\n",
       "      <td>64</td>\n",
       "    </tr>\n",
       "  </tbody>\n",
       "</table>\n",
       "</div>"
      ],
      "text/plain": [
       "             Date                   Country    Status  AQI Value\n",
       "18116  2025-03-06  United States of America  Moderate         82\n",
       "18117  2025-03-06                Uzbekistan      Good         17\n",
       "18118  2025-03-06                   Vatican  Moderate         65\n",
       "18119  2025-03-06                 Venezuela      Good         11\n",
       "18120  2025-03-06                   Vietnam  Moderate         64"
      ]
     },
     "execution_count": 7,
     "metadata": {},
     "output_type": "execute_result"
    }
   ],
   "source": [
    "import pandas as pd\n",
    "url = \"https://raw.githubusercontent.com/alishermutalov/praktikum-datasets/refs/heads/praktikum/data_date.csv\"\n",
    "#javobni shu yerda yozing.\n",
    "df = pd.read_csv(url)\n",
    "\n",
    "df.to_csv('aqi.csv', index=False)\n",
    "\n",
    "\n",
    "pd.read_csv('aqi.csv').tail()"
   ]
  },
  {
   "cell_type": "markdown",
   "metadata": {
    "id": "FnQocRhq4acH"
   },
   "source": [
    "#2-topshiriq\n",
    "1. Saqlab olingan `aqi.csv` faylidagi maʼlumotlarning faqat 2024-yilga tegishlisini excel faylga `aqi_2024.xlsx` koʻrinishida saqlab oling.\n",
    "2. Saqlab olingan `aqi_2024.xlsx` faylidan Oʻzbekistonga tegishli maʼlumotni (qatorlarni) oʻqing."
   ]
  },
  {
   "cell_type": "code",
   "execution_count": null,
   "metadata": {
    "id": "12426JZt4h_A"
   },
   "outputs": [],
   "source": [
    "df = pd.read_csv('aqi.csv')\n",
    "df['Date'] = pd.to_datetime(df['Date'])  # Sana ustunini datetime formatga o'tkazamiz\n",
    "df_2024 = df[df['Date'].dt.year == 2024] # Faqat 2024-yilga tegishli qatorlar\n",
    "\n",
    "df_2024.to_excel('aqi_2024.xlsx', index=False)"
   ]
  },
  {
   "cell_type": "code",
   "execution_count": 14,
   "metadata": {},
   "outputs": [
    {
     "name": "stdout",
     "output_type": "stream",
     "text": [
      "           Date     Country     Status  AQI Value\n",
      "128  2024-06-06  Uzbekistan       Good         21\n",
      "261  2024-06-06  Uzbekistan       Good         21\n",
      "394  2024-06-13  Uzbekistan       Good         35\n",
      "525  2024-06-20  Uzbekistan       Good         10\n",
      "656  2024-06-27  Uzbekistan       Good         26\n",
      "786  2024-07-04  Uzbekistan       Good         19\n",
      "914  2024-07-11  Uzbekistan       Good         26\n",
      "1043 2024-07-18  Uzbekistan       Good         42\n",
      "1173 2024-07-25  Uzbekistan       Good         30\n",
      "1302 2024-08-01  Uzbekistan       Good         45\n",
      "1432 2024-08-08  Uzbekistan       Good         42\n",
      "1562 2024-08-15  Uzbekistan       Good         26\n",
      "1691 2024-08-22  Uzbekistan       Good         23\n",
      "1819 2024-08-29  Uzbekistan   Moderate         56\n",
      "1948 2024-09-05  Uzbekistan   Moderate         70\n",
      "2075 2024-09-12  Uzbekistan       Good         45\n",
      "2204 2024-09-19  Uzbekistan  Hazardous        500\n",
      "2331 2024-09-26  Uzbekistan  Unhealthy        157\n",
      "2450 2024-10-03  Uzbekistan       Good         34\n",
      "2578 2024-10-10  Uzbekistan   Moderate         63\n",
      "2700 2024-10-17  Uzbekistan  Unhealthy        195\n",
      "2821 2024-10-24  Uzbekistan  Unhealthy        180\n",
      "2941 2024-10-31  Uzbekistan  Unhealthy        153\n",
      "3060 2024-11-07  Uzbekistan   Moderate         65\n",
      "3179 2024-11-14  Uzbekistan  Unhealthy        151\n",
      "3297 2024-11-21  Uzbekistan  Unhealthy        152\n",
      "3419 2024-11-28  Uzbekistan       Good         38\n",
      "3541 2024-12-05  Uzbekistan   Moderate         83\n",
      "3663 2024-12-12  Uzbekistan   Moderate        100\n",
      "3786 2024-12-19  Uzbekistan       Good         34\n",
      "3907 2024-12-26  Uzbekistan   Moderate         98\n"
     ]
    }
   ],
   "source": [
    "df_2024_excel = pd.read_excel('aqi_2024.xlsx')\n",
    "uz_data = df_2024_excel[df_2024_excel['Country'] == 'Uzbekistan']\n",
    "print(uz_data)"
   ]
  },
  {
   "cell_type": "markdown",
   "metadata": {
    "id": "6rPyy4b274V7"
   },
   "source": [
    "#3-topshiriq\n",
    "1. `aqi.csv` faylidagi maʼlumotlarni oʻrganib chiqsangiz, bu faylda 2022–2025-yillar oraligʻidagi havo sifati haqidagi maʼlumotlarni koʻrishingiz mumkin. Hozir sizga vazifa:\n",
    "  * `aqi_2022.csv`, `aqi_2023.csv`, `aqi_2024.csv`, `aqi_2025.csv`  fayllariga `aqi.csv` faylidagi maʼlumotlarning mos davrlarini saqlang. Misol uchun, `aqi_2022` fayli 2022-yildagi havo sifati haqidagi maʼlumotlarni oʻzida saqlaydi.\n",
    "  "
   ]
  },
  {
   "cell_type": "code",
   "execution_count": 15,
   "metadata": {
    "id": "JzmLM98a_yEe"
   },
   "outputs": [],
   "source": [
    "df = pd.read_csv('aqi.csv')\n",
    "df['Date'] = pd.to_datetime(df['Date'])  # Sana ustunini datetime formatga o'tkazamiz\n",
    "\n",
    "for year in range(2022, 2026):\n",
    "    df_year = df[df['Date'].dt.year == year]\n",
    "    df_year.to_csv(f'aqi_{year}.csv', index=False) "
   ]
  },
  {
   "cell_type": "markdown",
   "metadata": {
    "id": "odeg9jKu_3lc"
   },
   "source": [
    "#4-topshiriq\n",
    "1. Saqlab olingan `aqi_2022.csv`, `aqi_2023.csv`, `aqi_2024.csv`, `aqi_2025.csv`  fayllarini HDF5 formatida saqlang. Fayl nomini `aqi.h5` deb nomlang. Kalit (key) sifatida fayllarning yillarini bering. Misol uchun, key=2025."
   ]
  },
  {
   "cell_type": "code",
   "execution_count": 30,
   "metadata": {
    "id": "KEVKJF--BO26"
   },
   "outputs": [],
   "source": [
    "import pandas as pd\n",
    "\n",
    "with pd.HDFStore('aqi.h5', mode='w') as store:\n",
    "    for year in range(2022, 2026):\n",
    "        df = pd.read_csv(f'aqi_{year}.csv')\n",
    "        store.put(f\"year_{year}\", df)\n"
   ]
  }
 ],
 "metadata": {
  "colab": {
   "provenance": [
    {
     "file_id": "1xFvjKRIJ8GcwHLkpBtOM2VZq2qQcV1LY",
     "timestamp": 1749467123612
    }
   ]
  },
  "kernelspec": {
   "display_name": "Python 3",
   "name": "python3"
  },
  "language_info": {
   "codemirror_mode": {
    "name": "ipython",
    "version": 3
   },
   "file_extension": ".py",
   "mimetype": "text/x-python",
   "name": "python",
   "nbconvert_exporter": "python",
   "pygments_lexer": "ipython3",
   "version": "3.12.3"
  }
 },
 "nbformat": 4,
 "nbformat_minor": 0
}
